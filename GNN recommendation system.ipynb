{
 "cells": [
  {
   "cell_type": "code",
   "execution_count": 4,
   "metadata": {
    "colab": {
     "base_uri": "https://localhost:8080/"
    },
    "id": "Qah9Tcu6qBI3",
    "outputId": "a560dd7f-9b0f-4792-895c-0b8e88b71090"
   },
   "outputs": [
    {
     "name": "stdout",
     "output_type": "stream",
     "text": [
      "Defaulting to user installation because normal site-packages is not writeable\n",
      "Collecting scikit-learn\n",
      "  Downloading scikit_learn-1.5.2-cp310-cp310-manylinux_2_17_x86_64.manylinux2014_x86_64.whl.metadata (13 kB)\n",
      "Requirement already satisfied: numpy>=1.19.5 in /usr/local/lib/python3.10/dist-packages (from scikit-learn) (1.26.4)\n",
      "Requirement already satisfied: scipy>=1.6.0 in /usr/lib/python3/dist-packages (from scikit-learn) (1.8.0)\n",
      "Collecting joblib>=1.2.0 (from scikit-learn)\n",
      "  Downloading joblib-1.4.2-py3-none-any.whl.metadata (5.4 kB)\n",
      "Collecting threadpoolctl>=3.1.0 (from scikit-learn)\n",
      "  Downloading threadpoolctl-3.5.0-py3-none-any.whl.metadata (13 kB)\n",
      "Downloading scikit_learn-1.5.2-cp310-cp310-manylinux_2_17_x86_64.manylinux2014_x86_64.whl (13.3 MB)\n",
      "\u001b[2K   \u001b[38;2;114;156;31m━━━━━━━━━━━━━━━━━━━━━━━━━━━━━━━━━━━━━━━━\u001b[0m \u001b[32m13.3/13.3 MB\u001b[0m \u001b[31m391.1 kB/s\u001b[0m eta \u001b[36m0:00:00\u001b[0mm eta \u001b[36m0:00:01\u001b[0m[36m0:00:01\u001b[0m\n",
      "\u001b[?25hDownloading joblib-1.4.2-py3-none-any.whl (301 kB)\n",
      "\u001b[2K   \u001b[38;2;114;156;31m━━━━━━━━━━━━━━━━━━━━━━━━━━━━━━━━━━━━━━━\u001b[0m \u001b[32m301.8/301.8 kB\u001b[0m \u001b[31m191.5 kB/s\u001b[0m eta \u001b[36m0:00:00\u001b[0m[36m0:00:01\u001b[0m[36m0:00:01\u001b[0m:01\u001b[0m\n",
      "\u001b[?25hDownloading threadpoolctl-3.5.0-py3-none-any.whl (18 kB)\n",
      "\u001b[33mDEPRECATION: devscripts 2.22.1ubuntu1 has a non-standard version number. pip 24.1 will enforce this behaviour change. A possible replacement is to upgrade to a newer version of devscripts or contact the author to suggest that they release a version with a conforming version number. Discussion can be found at https://github.com/pypa/pip/issues/12063\u001b[0m\u001b[33m\n",
      "\u001b[0m\u001b[33mDEPRECATION: reportbug 11.4.1ubuntu1 has a non-standard version number. pip 24.1 will enforce this behaviour change. A possible replacement is to upgrade to a newer version of reportbug or contact the author to suggest that they release a version with a conforming version number. Discussion can be found at https://github.com/pypa/pip/issues/12063\u001b[0m\u001b[33m\n",
      "\u001b[0mInstalling collected packages: threadpoolctl, joblib, scikit-learn\n",
      "Successfully installed joblib-1.4.2 scikit-learn-1.5.2 threadpoolctl-3.5.0\n",
      "\n",
      "\u001b[1m[\u001b[0m\u001b[34;49mnotice\u001b[0m\u001b[1;39;49m]\u001b[0m\u001b[39;49m A new release of pip is available: \u001b[0m\u001b[31;49m24.0\u001b[0m\u001b[39;49m -> \u001b[0m\u001b[32;49m24.3.1\u001b[0m\n",
      "\u001b[1m[\u001b[0m\u001b[34;49mnotice\u001b[0m\u001b[1;39;49m]\u001b[0m\u001b[39;49m To update, run: \u001b[0m\u001b[32;49mpython3 -m pip install --upgrade pip\u001b[0m\n"
     ]
    }
   ],
   "source": [
    "!pip3 install torch_geometric"
   ]
  },
  {
   "cell_type": "code",
   "execution_count": 1,
   "metadata": {
    "id": "HwGpPMCNp4O7"
   },
   "outputs": [
    {
     "name": "stderr",
     "output_type": "stream",
     "text": [
      "/usr/lib/python3/dist-packages/scipy/__init__.py:146: UserWarning: A NumPy version >=1.17.3 and <1.25.0 is required for this version of SciPy (detected version 1.26.4\n",
      "  warnings.warn(f\"A NumPy version >={np_minversion} and <{np_maxversion}\"\n"
     ]
    }
   ],
   "source": [
    "import random\n",
    "import time\n",
    "\n",
    "import matplotlib.pyplot as plt\n",
    "import networkx as nx\n",
    "import numpy as np\n",
    "import pandas as pd\n",
    "\n",
    "import torch\n",
    "import torch.nn as nn\n",
    "import torch.nn.functional as F\n",
    "import torch.optim as optim\n",
    "\n",
    "import torch_geometric\n",
    "from torch_geometric.nn.conv import MessagePassing\n",
    "from torch_geometric.utils import degree\n",
    "\n",
    "from tqdm import tqdm\n",
    "import scipy.sparse as sp\n",
    "import gc\n",
    "\n",
    "from torch.utils.data import TensorDataset as TensorDataset\n",
    "from torch.utils.data import DataLoader as DataLoader\n",
    "\n",
    "from sklearn.metrics import mean_squared_error, mean_absolute_error\n",
    "from sklearn import preprocessing as pp\n",
    "from sklearn.model_selection import train_test_split"
   ]
  },
  {
   "cell_type": "code",
   "execution_count": 2,
   "metadata": {},
   "outputs": [],
   "source": [
    "base_path = \"dataset and code /\""
   ]
  },
  {
   "cell_type": "code",
   "execution_count": 3,
   "metadata": {
    "colab": {
     "base_uri": "https://localhost:8080/"
    },
    "id": "IbAhNmIOp5fy",
    "outputId": "9059d23f-bf0b-4767-f284-5af459123a4e"
   },
   "outputs": [
    {
     "name": "stdout",
     "output_type": "stream",
     "text": [
      "cuda\n"
     ]
    }
   ],
   "source": [
    "device = torch.device('cuda' if torch.cuda.is_available() else 'cpu')\n",
    "print(device)"
   ]
  },
  {
   "cell_type": "code",
   "execution_count": 4,
   "metadata": {
    "id": "DLAPAi9T5tlh"
   },
   "outputs": [],
   "source": [
    "import json\n",
    "with open(f\"{base_path}user_stats.json\", 'r') as f:\n",
    "    user_stats = json.load(f)\n",
    "\n",
    "\n",
    "user_features_df = pd.DataFrame.from_dict(user_stats, orient='index')\n",
    "\n",
    "user_features_df = user_features_df.reset_index().rename(columns={'index': 'user_id'})\n",
    "\n",
    "\n",
    "book_features_df = pd.read_csv(base_path + \"books_data.csv\").fillna(0)\n",
    "book_features_df.drop(columns=['title', 'publication_year', 'ratings_count', 'text_reviews_count'], inplace=True, axis=1)\n"
   ]
  },
  {
   "cell_type": "code",
   "execution_count": 6,
   "metadata": {
    "id": "2nIPihapqt7C"
   },
   "outputs": [],
   "source": [
    "columns = ['user_id', 'book_id', 'rating']\n",
    "ratings_df = pd.read_csv(base_path + \"dataset.csv\").fillna(0)\n",
    "ratings_df.drop(columns=['review_text', 'n_votes'], inplace=True, axis=1)\n"
   ]
  },
  {
   "cell_type": "code",
   "execution_count": 7,
   "metadata": {
    "colab": {
     "base_uri": "https://localhost:8080/",
     "height": 210
    },
    "id": "kKhrRvoPsBH8",
    "outputId": "989a2d5c-7ca5-437f-b2d2-bfeff913e4dd"
   },
   "outputs": [
    {
     "data": {
      "text/plain": [
       "4    1685130\n",
       "5    1663722\n",
       "3    1022358\n",
       "0     282300\n",
       "2     259330\n",
       "1      80223\n",
       "Name: rating, dtype: int64"
      ]
     },
     "execution_count": 7,
     "metadata": {},
     "output_type": "execute_result"
    }
   ],
   "source": [
    "ratings_df['rating'].value_counts()"
   ]
  },
  {
   "cell_type": "code",
   "execution_count": 8,
   "metadata": {
    "id": "Jm9yDCMTsE_3"
   },
   "outputs": [],
   "source": [
    "train, test = train_test_split(ratings_df.values, test_size=0.1, random_state=42)\n",
    "train_df = pd.DataFrame(train, columns=ratings_df.columns)\n",
    "test_df = pd.DataFrame(test, columns=ratings_df.columns)"
   ]
  },
  {
   "cell_type": "code",
   "execution_count": 9,
   "metadata": {
    "id": "5YdW325UvCNz"
   },
   "outputs": [],
   "source": [
    "le_user = pp.LabelEncoder()\n",
    "le_item = pp.LabelEncoder()\n",
    "train_df['user_id_idx'] = le_user.fit_transform(train_df['user_id'].values)\n",
    "train_df['book_id_idx'] = le_item.fit_transform(train_df['book_id'].values)\n",
    "\n"
   ]
  },
  {
   "cell_type": "code",
   "execution_count": 10,
   "metadata": {},
   "outputs": [
    {
     "data": {
      "text/html": [
       "<div>\n",
       "<style scoped>\n",
       "    .dataframe tbody tr th:only-of-type {\n",
       "        vertical-align: middle;\n",
       "    }\n",
       "\n",
       "    .dataframe tbody tr th {\n",
       "        vertical-align: top;\n",
       "    }\n",
       "\n",
       "    .dataframe thead th {\n",
       "        text-align: right;\n",
       "    }\n",
       "</style>\n",
       "<table border=\"1\" class=\"dataframe\">\n",
       "  <thead>\n",
       "    <tr style=\"text-align: right;\">\n",
       "      <th></th>\n",
       "      <th>user_id</th>\n",
       "      <th>book_id</th>\n",
       "      <th>rating</th>\n",
       "      <th>user_id_idx</th>\n",
       "      <th>book_id_idx</th>\n",
       "    </tr>\n",
       "  </thead>\n",
       "  <tbody>\n",
       "    <tr>\n",
       "      <th>0</th>\n",
       "      <td>6c7fce68e0760e97de9aaad7617ca5f4</td>\n",
       "      <td>4952</td>\n",
       "      <td>4</td>\n",
       "      <td>82893</td>\n",
       "      <td>90</td>\n",
       "    </tr>\n",
       "    <tr>\n",
       "      <th>1</th>\n",
       "      <td>26ae186144f285359f7b18df10d4cb91</td>\n",
       "      <td>977817</td>\n",
       "      <td>5</td>\n",
       "      <td>29258</td>\n",
       "      <td>4998</td>\n",
       "    </tr>\n",
       "    <tr>\n",
       "      <th>2</th>\n",
       "      <td>70f2c46cacf5da27f17fea34b4684456</td>\n",
       "      <td>90952</td>\n",
       "      <td>4</td>\n",
       "      <td>86266</td>\n",
       "      <td>1024</td>\n",
       "    </tr>\n",
       "    <tr>\n",
       "      <th>3</th>\n",
       "      <td>0f52329fbd7afa66717148ba9dd4ac38</td>\n",
       "      <td>233719</td>\n",
       "      <td>3</td>\n",
       "      <td>11538</td>\n",
       "      <td>2073</td>\n",
       "    </tr>\n",
       "    <tr>\n",
       "      <th>4</th>\n",
       "      <td>15d01fa2fe4777d7965e9fe10ee2d1f8</td>\n",
       "      <td>2419450</td>\n",
       "      <td>1</td>\n",
       "      <td>16567</td>\n",
       "      <td>7207</td>\n",
       "    </tr>\n",
       "  </tbody>\n",
       "</table>\n",
       "</div>"
      ],
      "text/plain": [
       "                            user_id  book_id rating  user_id_idx  book_id_idx\n",
       "0  6c7fce68e0760e97de9aaad7617ca5f4     4952      4        82893           90\n",
       "1  26ae186144f285359f7b18df10d4cb91   977817      5        29258         4998\n",
       "2  70f2c46cacf5da27f17fea34b4684456    90952      4        86266         1024\n",
       "3  0f52329fbd7afa66717148ba9dd4ac38   233719      3        11538         2073\n",
       "4  15d01fa2fe4777d7965e9fe10ee2d1f8  2419450      1        16567         7207"
      ]
     },
     "execution_count": 10,
     "metadata": {},
     "output_type": "execute_result"
    }
   ],
   "source": [
    "train_df.head()"
   ]
  },
  {
   "cell_type": "code",
   "execution_count": 11,
   "metadata": {
    "id": "3VtUIQNNvJZA"
   },
   "outputs": [],
   "source": [
    "train_user_ids = train_df['user_id'].unique()\n",
    "train_book_ids = train_df['book_id'].unique()\n",
    "\n",
    "user_features_df = user_features_df[user_features_df['user_id'].isin(train_user_ids)]\n",
    "book_features_df = book_features_df[book_features_df['book_id'].isin(train_book_ids)]\n",
    "\n",
    "test_df = test_df[\n",
    "  (test_df['user_id'].isin(train_user_ids)) & \\\n",
    "  (test_df['book_id'].isin(train_book_ids))\n",
    "]\n"
   ]
  },
  {
   "cell_type": "code",
   "execution_count": 12,
   "metadata": {
    "id": "4Tlnx4G8vUNT"
   },
   "outputs": [],
   "source": [
    "user_features_df['user_id_idx'] = le_user.transform(user_features_df['user_id'].values)\n",
    "book_features_df['book_id_idx'] = le_item.transform(book_features_df['book_id'].values)\n",
    "test_df['user_id_idx'] = le_user.transform(test_df['user_id'].values)\n",
    "test_df['book_id_idx'] = le_item.transform(test_df['book_id'].values)"
   ]
  },
  {
   "cell_type": "code",
   "execution_count": 13,
   "metadata": {
    "colab": {
     "base_uri": "https://localhost:8080/"
    },
    "id": "PVMIEtpRvqPW",
    "outputId": "03c8a0ce-1956-46e9-8913-8c0743c14a81"
   },
   "outputs": [
    {
     "name": "stdout",
     "output_type": "stream",
     "text": [
      "Number of Unique Users :  195667\n",
      "Number of unique Books :  31220\n"
     ]
    }
   ],
   "source": [
    "n_users = train_df['user_id_idx'].nunique()\n",
    "n_books = train_df['book_id_idx'].nunique()\n",
    "print(\"Number of Unique Users : \", n_users)\n",
    "print(\"Number of unique Books : \", n_books)"
   ]
  },
  {
   "cell_type": "code",
   "execution_count": 14,
   "metadata": {},
   "outputs": [],
   "source": [
    "def rating_data_loader(data, batch_size):\n",
    "    users = torch.LongTensor(data['user_id_idx'].values)\n",
    "    items = torch.LongTensor(data['book_id_idx'].values)\n",
    "    ratings = torch.FloatTensor(data['rating'].values.astype(np.float32))\n",
    "    \n",
    "    dataset = TensorDataset(users, items, ratings)\n",
    "    return DataLoader(dataset, batch_size=batch_size, shuffle=True)\n"
   ]
  },
  {
   "cell_type": "code",
   "execution_count": 15,
   "metadata": {
    "id": "ThA88hYV0rBT"
   },
   "outputs": [],
   "source": [
    "u_t = torch.FloatTensor(train_df.user_id_idx)\n",
    "b_t = torch.FloatTensor(train_df.book_id_idx) + n_users\n",
    "\n",
    "train_edge_index = torch.stack((\n",
    "    torch.cat([u_t, b_t]),\n",
    "    torch.cat([b_t, u_t])\n",
    ")).to(device)\n",
    "train_edge_index = train_edge_index.type(torch.long)"
   ]
  },
  {
   "cell_type": "code",
   "execution_count": 16,
   "metadata": {
    "id": "AYXNKven22gP"
   },
   "outputs": [],
   "source": [
    "class LightGCNConv(MessagePassing):\n",
    "  def __init__(self, **kwargs):\n",
    "    super().__init__(aggr='add')\n",
    "\n",
    "  def forward(self, x, edge_index):\n",
    "    # Compute normalization\n",
    "    from_, to_ = edge_index\n",
    "    deg = degree(to_, x.size(0), dtype=x.dtype)\n",
    "    deg_inv_sqrt = deg.pow(-0.5)\n",
    "    deg_inv_sqrt[deg_inv_sqrt == float('inf')] = 0\n",
    "    norm = deg_inv_sqrt[from_] * deg_inv_sqrt[to_]\n",
    "\n",
    "    # Start propagating messages (no update after aggregation)\n",
    "    return self.propagate(edge_index, x=x, norm=norm)\n",
    "\n",
    "  def message(self, x_j, norm):\n",
    "    return norm.view(-1, 1) * x_j"
   ]
  },
  {
   "cell_type": "code",
   "execution_count": 17,
   "metadata": {
    "id": "INhpvWZsGi6n"
   },
   "outputs": [],
   "source": [
    "class NGCFConv(MessagePassing):\n",
    "  def __init__(self, latent_dim, dropout, bias=True, **kwargs):\n",
    "    super(NGCFConv, self).__init__(aggr='add', **kwargs)\n",
    "\n",
    "    self.dropout = dropout\n",
    "\n",
    "    self.lin_1 = nn.Linear(latent_dim, latent_dim, bias=bias)\n",
    "    self.lin_2 = nn.Linear(latent_dim, latent_dim, bias=bias)\n",
    "\n",
    "    self.init_parameters()\n",
    "\n",
    "\n",
    "  def init_parameters(self):\n",
    "    nn.init.xavier_uniform_(self.lin_1.weight)\n",
    "    nn.init.xavier_uniform_(self.lin_2.weight)\n",
    "\n",
    "\n",
    "  def forward(self, x, edge_index):\n",
    "    # Compute normalization\n",
    "    from_, to_ = edge_index\n",
    "    deg = degree(to_, x.size(0), dtype=x.dtype)\n",
    "    deg_inv_sqrt = deg.pow(-0.5)\n",
    "    deg_inv_sqrt[deg_inv_sqrt == float('inf')] = 0\n",
    "    norm = deg_inv_sqrt[from_] * deg_inv_sqrt[to_]\n",
    "\n",
    "    # Start propagating messages\n",
    "    out = self.propagate(edge_index, x=(x, x), norm=norm)\n",
    "\n",
    "    # Perform update after aggregation\n",
    "    out += self.lin_1(x)\n",
    "    out = F.dropout(out, self.dropout, self.training)\n",
    "    return F.leaky_relu(out)\n",
    "\n",
    "\n",
    "  def message(self, x_j, x_i, norm):\n",
    "    return norm.view(-1, 1) * (self.lin_1(x_j) + self.lin_2(x_j * x_i))"
   ]
  },
  {
   "cell_type": "code",
   "execution_count": 18,
   "metadata": {},
   "outputs": [],
   "source": [
    "class RatingPredictionGNN(nn.Module):\n",
    "    def __init__(\n",
    "            self,\n",
    "            latent_dim,\n",
    "            num_layers,\n",
    "            num_users,\n",
    "            num_books,\n",
    "            model,\n",
    "            user_features,\n",
    "            book_numerical_features,\n",
    "            book_genre_features,\n",
    "            dropout=0.1\n",
    "    ):\n",
    "        super(RatingPredictionGNN, self).__init__()\n",
    "        assert (model == 'NGCF' or model == 'LightGCN'), 'Model must be NGCF or LightGCN'\n",
    "        self.model = model\n",
    "\n",
    "        # Keep the same feature processing and embedding parts\n",
    "        self.user_features = user_features\n",
    "        self.book_numerical_features = book_numerical_features\n",
    "        self.book_genre_features = book_genre_features\n",
    "\n",
    "        self.user_feature_proj = nn.Linear(user_features.shape[1], latent_dim)\n",
    "        self.book_numerical_features_proj = nn.Linear(book_numerical_features.shape[1], latent_dim)\n",
    "        self.book_genre_features_proj = nn.Linear(book_genre_features.shape[1], latent_dim)\n",
    "\n",
    "        self.embedding = nn.Embedding(num_users + num_books, latent_dim)\n",
    "\n",
    "        if self.model == 'NGCF':\n",
    "            self.convs = nn.ModuleList(\n",
    "                NGCFConv(latent_dim, dropout=dropout) for _ in range(num_layers)\n",
    "            )\n",
    "        else:\n",
    "            self.convs = nn.ModuleList(LightGCNConv() for _ in range(num_layers))\n",
    "\n",
    "        # Add prediction layers for ratings\n",
    "        self.prediction = nn.Sequential(\n",
    "            nn.Linear(latent_dim * 2, latent_dim),\n",
    "            nn.ReLU(),\n",
    "            nn.Dropout(dropout),\n",
    "            nn.Linear(latent_dim, 1)\n",
    "        )\n",
    "\n",
    "        self.init_parameters()\n",
    "    \n",
    "    def init_parameters(self):\n",
    "        if self.model == 'NGCF':\n",
    "            nn.init.xavier_uniform_(self.embedding.weight, gain=1)\n",
    "            nn.init.xavier_uniform_(self.user_feature_proj.weight)\n",
    "            nn.init.xavier_uniform_(self.book_numerical_features_proj.weight)\n",
    "            nn.init.xavier_uniform_(self.book_genre_features_proj.weight)\n",
    "        else:\n",
    "            nn.init.normal_(self.embedding.weight, std=0.1)\n",
    "            nn.init.normal_(self.user_feature_proj.weight, std=0.1)\n",
    "            nn.init.normal_(self.book_numerical_features_proj.weight, std=0.1)\n",
    "            nn.init.normal_(self.book_genre_features_proj.weight, std=0.1)\n",
    "            \n",
    "    def forward(self, edge_index):\n",
    "        # Same as before until obtaining embeddings\n",
    "        user_proj = self.user_feature_proj(self.user_features)\n",
    "        book_num_proj = self.book_numerical_features_proj(self.book_numerical_features)\n",
    "        book_genre_proj = self.book_genre_features_proj(self.book_genre_features)\n",
    "\n",
    "        book_proj = book_num_proj + book_genre_proj\n",
    "\n",
    "        emb0 = self.embedding.weight.clone()\n",
    "        emb0[:self.user_features.shape[0]] += user_proj\n",
    "        emb0[self.user_features.shape[0]:] += book_proj\n",
    "\n",
    "        embs = [emb0]\n",
    "        emb = emb0\n",
    "\n",
    "        for conv in self.convs:\n",
    "            emb = conv(x=emb, edge_index=edge_index)\n",
    "            embs.append(emb)\n",
    "\n",
    "        out = (\n",
    "            torch.cat(embs, dim=-1) if self.model == 'NGCF'\n",
    "            else torch.mean(torch.stack(embs, dim=0), dim=0)\n",
    "        )\n",
    "\n",
    "        return emb0, out\n",
    "\n",
    "    def predict_ratings(self, user_indices, item_indices, final_embeddings):\n",
    "        \"\"\"Predict ratings for given user-item pairs\"\"\"\n",
    "        user_emb = final_embeddings[user_indices]\n",
    "        item_emb = final_embeddings[item_indices]\n",
    "        \n",
    "        # Concatenate user and item embeddings\n",
    "        combined = torch.cat([user_emb, item_emb], dim=1)\n",
    "        \n",
    "        # Predict rating\n",
    "        rating = self.prediction(combined)\n",
    "        return rating.squeeze()"
   ]
  },
  {
   "cell_type": "code",
   "execution_count": 19,
   "metadata": {},
   "outputs": [],
   "source": [
    "def train_rating_prediction(model, optimizer, train_df, test_df, train_edge_index, num_epochs=50, batch_size=1024):\n",
    "    model.train()\n",
    "    n_users = len(train_df['user_id_idx'].unique())\n",
    "    \n",
    "    for epoch in range(num_epochs):\n",
    "        total_loss = 0\n",
    "        \n",
    "        # Create batches of user-item pairs and ratings\n",
    "       \n",
    "        dataloader = rating_data_loader(train_df, batch_size)\n",
    "        \n",
    "        for batch_users, batch_items, batch_ratings in dataloader:\n",
    "            batch_users = batch_users.to(device)\n",
    "            batch_items = batch_items.to(device)\n",
    "            batch_ratings = batch_ratings.to(device)\n",
    "            \n",
    "            optimizer.zero_grad()\n",
    "            \n",
    "            # Get embeddings\n",
    "            _, final_embeddings = model(train_edge_index)\n",
    "            \n",
    "            # Predict ratings\n",
    "            predicted_ratings = model.predict_ratings(\n",
    "                batch_users, \n",
    "                batch_items - n_users,  # Adjust item indices\n",
    "                final_embeddings\n",
    "            )\n",
    "            \n",
    "            # Calculate loss\n",
    "            loss = F.mse_loss(predicted_ratings, batch_ratings)\n",
    "            \n",
    "            loss.backward()\n",
    "            optimizer.step()\n",
    "            \n",
    "            total_loss += loss.item()\n",
    "        \n",
    "        # Evaluation on test set\n",
    "        if (epoch + 1) % 5 == 0:\n",
    "            model.eval()\n",
    "            with torch.no_grad():\n",
    "                _, final_embeddings = model(train_edge_index)\n",
    "                test_users = torch.LongTensor(test_df['user_id_idx'].values).to(device)\n",
    "                test_items = torch.LongTensor(test_df['book_id_idx'].values).to(device)\n",
    "                test_ratings = torch.FloatTensor(test_df['rating'].values).to(device)\n",
    "                \n",
    "                predicted_test_ratings = model.predict_ratings(\n",
    "                    test_users,\n",
    "                    test_items,\n",
    "                    final_embeddings\n",
    "                )\n",
    "                \n",
    "                test_rmse = torch.sqrt(F.mse_loss(predicted_test_ratings, test_ratings))\n",
    "                test_mae = F.l1_loss(predicted_test_ratings, test_ratings)\n",
    "                \n",
    "                print(f\"Epoch {epoch + 1}:\")\n",
    "                print(f\"Train Loss: {total_loss/len(dataloader):.4f}\")\n",
    "                print(f\"Test RMSE: {test_rmse:.4f}\")\n",
    "                print(f\"Test MAE: {test_mae:.4f}\")\n",
    "            model.train()"
   ]
  },
  {
   "cell_type": "code",
   "execution_count": 20,
   "metadata": {
    "id": "0bg03U3AlU2I"
   },
   "outputs": [],
   "source": [
    "latent_dim = 64\n",
    "n_layers = 3\n",
    "\n",
    "EPOCHS = 50\n",
    "BATCH_SIZE = 1024\n",
    "DECAY = 0.0001\n",
    "LR = 0.001\n",
    "K = 20"
   ]
  },
  {
   "cell_type": "code",
   "execution_count": 21,
   "metadata": {
    "id": "g1SiWCp-ctnF"
   },
   "outputs": [],
   "source": [
    "user_feature_cols =['mean', 'variance']\n",
    "book_numerical_cols = ['num_pages', 'average_rating', 'rating_variance']\n",
    "genre_cols = ['Children', 'Biography', 'Comics', 'Fantasy Paranormal',\n",
    "              'Mystery Thriller Crime', 'Poetry', 'Young Adult', 'Romance']\n",
    "user_features = torch.FloatTensor(\n",
    "    user_features_df[user_feature_cols].values\n",
    ").to(device)\n",
    "\n",
    "book_numerical_features = torch.FloatTensor(\n",
    "    book_features_df[book_numerical_cols].values\n",
    ").to(device)\n",
    "\n",
    "book_genre_features = torch.FloatTensor(\n",
    "    book_features_df[genre_cols].values\n",
    ").to(device)"
   ]
  },
  {
   "cell_type": "code",
   "execution_count": 22,
   "metadata": {},
   "outputs": [],
   "source": [
    "class RatingTrainer:\n",
    "    def __init__(\n",
    "        self,\n",
    "        model,\n",
    "        train_df,\n",
    "        test_df,\n",
    "        edge_index,\n",
    "        n_users,\n",
    "        device,\n",
    "        batch_size=1024,\n",
    "        lr=0.001,\n",
    "        weight_decay=1e-4\n",
    "    ):\n",
    "        self.model = model\n",
    "        self.train_df = train_df\n",
    "        self.test_df = test_df\n",
    "        self.edge_index = edge_index\n",
    "        self.n_users = n_users\n",
    "        self.device = device\n",
    "        self.batch_size = batch_size\n",
    "        \n",
    "        # Create data loaders\n",
    "        self.train_loader = self._create_data_loader(train_df)\n",
    "        self.test_loader = self._create_data_loader(test_df)\n",
    "        \n",
    "        # Initialize optimizer and scheduler\n",
    "        self.optimizer = torch.optim.Adam(\n",
    "            model.parameters(), \n",
    "            lr=lr, \n",
    "            weight_decay=weight_decay\n",
    "        )\n",
    "        self.scheduler = torch.optim.lr_scheduler.ReduceLROnPlateau(\n",
    "            self.optimizer, \n",
    "            mode='min', \n",
    "            patience=5, \n",
    "            factor=0.5, \n",
    "            verbose=True\n",
    "        )\n",
    "        \n",
    "        # Keep track of best model\n",
    "        self.best_rmse = float('inf')\n",
    "        self.best_state_dict = None\n",
    "        \n",
    "    def _create_data_loader(self, df):\n",
    "        user_tensor = torch.LongTensor(df['user_id_idx'].values)\n",
    "        item_tensor = torch.LongTensor(df['book_id_idx'].values)\n",
    "        ratings = torch.FloatTensor(df['rating'].values.astype(np.float32))\n",
    "        \n",
    "        dataset = TensorDataset(user_tensor, item_tensor, ratings)\n",
    "        return DataLoader(dataset, batch_size=self.batch_size, shuffle=True)\n",
    "    \n",
    "    def train_epoch(self):\n",
    "        self.model.train()\n",
    "        total_loss = 0\n",
    "        \n",
    "        for batch_users, batch_items, batch_ratings in tqdm(self.train_loader, desc=\"Training\"):\n",
    "            batch_users = batch_users.to(self.device)\n",
    "            batch_items = batch_items.to(self.device)\n",
    "            batch_ratings = batch_ratings.to(self.device)\n",
    "            \n",
    "            self.optimizer.zero_grad()\n",
    "            \n",
    "            # Get embeddings\n",
    "            _, final_embeddings = self.model(self.edge_index)\n",
    "            \n",
    "            # Predict ratings\n",
    "            predicted_ratings = self.model.predict_ratings(\n",
    "                batch_users,\n",
    "                batch_items,\n",
    "                final_embeddings\n",
    "            )\n",
    "            \n",
    "            # Calculate loss\n",
    "            loss = torch.nn.functional.mse_loss(predicted_ratings, batch_ratings)\n",
    "            \n",
    "            loss.backward()\n",
    "            torch.nn.utils.clip_grad_norm_(self.model.parameters(), max_norm=1.0)\n",
    "            self.optimizer.step()\n",
    "            \n",
    "            total_loss += loss.item()\n",
    "        \n",
    "        return total_loss / len(self.train_loader)\n",
    "    \n",
    "    @torch.no_grad()\n",
    "    def evaluate(self):\n",
    "        self.model.eval()\n",
    "        predictions = []\n",
    "        actuals = []\n",
    "        \n",
    "        for batch_users, batch_items, batch_ratings in tqdm(self.test_loader, desc=\"Evaluating\"):\n",
    "            batch_users = batch_users.to(self.device)\n",
    "            batch_items = batch_items.to(self.device)\n",
    "            \n",
    "            _, final_embeddings = self.model(self.edge_index)\n",
    "            pred_ratings = self.model.predict_ratings(\n",
    "                batch_users,\n",
    "                batch_items,\n",
    "                final_embeddings\n",
    "            )\n",
    "            \n",
    "            predictions.extend(pred_ratings.cpu().numpy())\n",
    "            actuals.extend(batch_ratings.numpy())\n",
    "        \n",
    "        predictions = np.array(predictions)\n",
    "        actuals = np.array(actuals)\n",
    "        \n",
    "        rmse = np.sqrt(mean_squared_error(actuals, predictions))\n",
    "        mae = mean_absolute_error(actuals, predictions)\n",
    "        \n",
    "        return rmse, mae\n",
    "    \n",
    "    def train(self, num_epochs=50, early_stopping_patience=10):\n",
    "        no_improve = 0\n",
    "        \n",
    "        for epoch in range(num_epochs):\n",
    "            # Train\n",
    "            train_loss = self.train_epoch()\n",
    "            \n",
    "            # Evaluate\n",
    "            test_rmse, test_mae = self.evaluate()\n",
    "            \n",
    "            # Learning rate scheduling\n",
    "            self.scheduler.step(test_rmse)\n",
    "            \n",
    "            # Save best model\n",
    "            if test_rmse < self.best_rmse:\n",
    "                self.best_rmse = test_rmse\n",
    "                self.best_state_dict = self.model.state_dict()\n",
    "                no_improve = 0\n",
    "            else:\n",
    "                no_improve += 1\n",
    "            \n",
    "            print(f\"Epoch {epoch + 1}:\")\n",
    "            print(f\"Train Loss: {train_loss:.4f}\")\n",
    "            print(f\"Test RMSE: {test_rmse:.4f}\")\n",
    "            print(f\"Test MAE: {test_mae:.4f}\")\n",
    "            print(\"-\" * 50)\n",
    "            \n",
    "            # Early stopping\n",
    "            if no_improve >= early_stopping_patience:\n",
    "                print(\"Early stopping triggered!\")\n",
    "                break\n",
    "        \n",
    "        # Load best model\n",
    "        self.model.load_state_dict(self.best_state_dict)\n",
    "        return self.model\n",
    "\n",
    "class RatingInference:\n",
    "    def __init__(self, model, edge_index, n_users, device):\n",
    "        self.model = model\n",
    "        self.edge_index = edge_index\n",
    "        self.n_users = n_users\n",
    "        self.device = device\n",
    "        \n",
    "        # Compute embeddings once\n",
    "        self.model.eval()\n",
    "        with torch.no_grad():\n",
    "            _, self.final_embeddings = self.model(self.edge_index)\n",
    "    \n",
    "    @torch.no_grad()\n",
    "    def predict_single_rating(self, user_idx, item_idx):\n",
    "        \"\"\"Predict rating for a single user-item pair\"\"\"\n",
    "        user_tensor = torch.LongTensor([user_idx]).to(self.device)\n",
    "        item_tensor = torch.LongTensor([item_idx]).to(self.device)\n",
    "        \n",
    "        pred_rating = self.model.predict_ratings(\n",
    "            user_tensor,\n",
    "            item_tensor,\n",
    "            self.final_embeddings\n",
    "        )\n",
    "        \n",
    "        return pred_rating.item()\n",
    "    \n",
    "    @torch.no_grad()\n",
    "    def predict_top_k_items(self, user_idx, k=10, exclude_rated=True, rated_items=None):\n",
    "        \"\"\"Predict top K items for a user\"\"\"\n",
    "        user_tensor = torch.LongTensor([user_idx]).to(self.device)\n",
    "        \n",
    "        # Predict ratings for all items\n",
    "        all_items = torch.arange(self.n_users).to(self.device)\n",
    "        pred_ratings = self.model.predict_ratings(\n",
    "            user_tensor.repeat(len(all_items)),\n",
    "            all_items,\n",
    "            self.final_embeddings\n",
    "        )\n",
    "        \n",
    "        # Exclude already rated items if requested\n",
    "        if exclude_rated and rated_items is not None:\n",
    "            pred_ratings[rated_items] = float('-inf')\n",
    "        \n",
    "        # Get top K items\n",
    "        top_k_ratings, top_k_indices = torch.topk(pred_ratings, k)\n",
    "        \n",
    "        return top_k_indices.cpu().numpy(), top_k_ratings.cpu().numpy()\n"
   ]
  },
  {
   "cell_type": "code",
   "execution_count": 23,
   "metadata": {},
   "outputs": [
    {
     "name": "stderr",
     "output_type": "stream",
     "text": [
      "/home/howard/.local/lib/python3.10/site-packages/torch/optim/lr_scheduler.py:62: UserWarning: The verbose parameter is deprecated. Please use get_last_lr() to access the learning rate.\n",
      "  warnings.warn(\n",
      "Training: 100%|██████████████████████████████████████████████████████████████████████████| 4389/4389 [09:36<00:00,  7.61it/s]\n",
      "Evaluating: 100%|██████████████████████████████████████████████████████████████████████████| 488/488 [00:35<00:00, 13.71it/s]\n"
     ]
    },
    {
     "name": "stdout",
     "output_type": "stream",
     "text": [
      "Epoch 1:\n",
      "Train Loss: 1.5177\n",
      "Test RMSE: 1.1677\n",
      "Test MAE: 0.9094\n",
      "--------------------------------------------------\n"
     ]
    },
    {
     "name": "stderr",
     "output_type": "stream",
     "text": [
      "Training: 100%|██████████████████████████████████████████████████████████████████████████| 4389/4389 [09:05<00:00,  8.05it/s]\n",
      "Evaluating: 100%|██████████████████████████████████████████████████████████████████████████| 488/488 [00:32<00:00, 15.24it/s]\n"
     ]
    },
    {
     "name": "stdout",
     "output_type": "stream",
     "text": [
      "Epoch 2:\n",
      "Train Loss: 1.3689\n",
      "Test RMSE: 1.1593\n",
      "Test MAE: 0.8618\n",
      "--------------------------------------------------\n"
     ]
    },
    {
     "name": "stderr",
     "output_type": "stream",
     "text": [
      "Training: 100%|██████████████████████████████████████████████████████████████████████████| 4389/4389 [09:02<00:00,  8.09it/s]\n",
      "Evaluating: 100%|██████████████████████████████████████████████████████████████████████████| 488/488 [00:32<00:00, 15.24it/s]\n"
     ]
    },
    {
     "name": "stdout",
     "output_type": "stream",
     "text": [
      "Epoch 3:\n",
      "Train Loss: 1.3392\n",
      "Test RMSE: 1.1624\n",
      "Test MAE: 0.9001\n",
      "--------------------------------------------------\n"
     ]
    },
    {
     "name": "stderr",
     "output_type": "stream",
     "text": [
      "Training: 100%|██████████████████████████████████████████████████████████████████████████| 4389/4389 [09:02<00:00,  8.09it/s]\n",
      "Evaluating: 100%|██████████████████████████████████████████████████████████████████████████| 488/488 [00:31<00:00, 15.25it/s]\n"
     ]
    },
    {
     "name": "stdout",
     "output_type": "stream",
     "text": [
      "Epoch 4:\n",
      "Train Loss: 1.3189\n",
      "Test RMSE: 1.1422\n",
      "Test MAE: 0.8684\n",
      "--------------------------------------------------\n"
     ]
    },
    {
     "name": "stderr",
     "output_type": "stream",
     "text": [
      "Training: 100%|██████████████████████████████████████████████████████████████████████████| 4389/4389 [09:02<00:00,  8.09it/s]\n",
      "Evaluating: 100%|██████████████████████████████████████████████████████████████████████████| 488/488 [00:31<00:00, 15.27it/s]\n"
     ]
    },
    {
     "name": "stdout",
     "output_type": "stream",
     "text": [
      "Epoch 5:\n",
      "Train Loss: 1.3088\n",
      "Test RMSE: 1.1299\n",
      "Test MAE: 0.8272\n",
      "--------------------------------------------------\n"
     ]
    },
    {
     "name": "stderr",
     "output_type": "stream",
     "text": [
      "Training: 100%|██████████████████████████████████████████████████████████████████████████| 4389/4389 [09:02<00:00,  8.09it/s]\n",
      "Evaluating: 100%|██████████████████████████████████████████████████████████████████████████| 488/488 [00:31<00:00, 15.26it/s]\n"
     ]
    },
    {
     "name": "stdout",
     "output_type": "stream",
     "text": [
      "Epoch 6:\n",
      "Train Loss: 1.3043\n",
      "Test RMSE: 1.1310\n",
      "Test MAE: 0.8284\n",
      "--------------------------------------------------\n"
     ]
    },
    {
     "name": "stderr",
     "output_type": "stream",
     "text": [
      "Training: 100%|██████████████████████████████████████████████████████████████████████████| 4389/4389 [09:02<00:00,  8.09it/s]\n",
      "Evaluating: 100%|██████████████████████████████████████████████████████████████████████████| 488/488 [00:31<00:00, 15.25it/s]\n"
     ]
    },
    {
     "name": "stdout",
     "output_type": "stream",
     "text": [
      "Epoch 7:\n",
      "Train Loss: 1.3009\n",
      "Test RMSE: 1.1331\n",
      "Test MAE: 0.8315\n",
      "--------------------------------------------------\n"
     ]
    },
    {
     "name": "stderr",
     "output_type": "stream",
     "text": [
      "Training: 100%|██████████████████████████████████████████████████████████████████████████| 4389/4389 [09:02<00:00,  8.09it/s]\n",
      "Evaluating: 100%|██████████████████████████████████████████████████████████████████████████| 488/488 [00:31<00:00, 15.27it/s]\n"
     ]
    },
    {
     "name": "stdout",
     "output_type": "stream",
     "text": [
      "Epoch 8:\n",
      "Train Loss: 1.3008\n",
      "Test RMSE: 1.1284\n",
      "Test MAE: 0.8270\n",
      "--------------------------------------------------\n"
     ]
    },
    {
     "name": "stderr",
     "output_type": "stream",
     "text": [
      "Training: 100%|██████████████████████████████████████████████████████████████████████████| 4389/4389 [09:02<00:00,  8.09it/s]\n",
      "Evaluating: 100%|██████████████████████████████████████████████████████████████████████████| 488/488 [00:31<00:00, 15.29it/s]\n"
     ]
    },
    {
     "name": "stdout",
     "output_type": "stream",
     "text": [
      "Epoch 9:\n",
      "Train Loss: 1.2994\n",
      "Test RMSE: 1.1276\n",
      "Test MAE: 0.8302\n",
      "--------------------------------------------------\n"
     ]
    },
    {
     "name": "stderr",
     "output_type": "stream",
     "text": [
      "Training: 100%|██████████████████████████████████████████████████████████████████████████| 4389/4389 [09:02<00:00,  8.10it/s]\n",
      "Evaluating: 100%|██████████████████████████████████████████████████████████████████████████| 488/488 [00:31<00:00, 15.28it/s]\n"
     ]
    },
    {
     "name": "stdout",
     "output_type": "stream",
     "text": [
      "Epoch 10:\n",
      "Train Loss: 1.2985\n",
      "Test RMSE: 1.1367\n",
      "Test MAE: 0.8564\n",
      "--------------------------------------------------\n"
     ]
    },
    {
     "name": "stderr",
     "output_type": "stream",
     "text": [
      "Training: 100%|██████████████████████████████████████████████████████████████████████████| 4389/4389 [09:02<00:00,  8.10it/s]\n",
      "Evaluating: 100%|██████████████████████████████████████████████████████████████████████████| 488/488 [00:31<00:00, 15.29it/s]\n"
     ]
    },
    {
     "name": "stdout",
     "output_type": "stream",
     "text": [
      "Epoch 11:\n",
      "Train Loss: 1.2995\n",
      "Test RMSE: 1.1300\n",
      "Test MAE: 0.8423\n",
      "--------------------------------------------------\n"
     ]
    },
    {
     "name": "stderr",
     "output_type": "stream",
     "text": [
      "Training: 100%|██████████████████████████████████████████████████████████████████████████| 4389/4389 [09:01<00:00,  8.10it/s]\n",
      "Evaluating: 100%|██████████████████████████████████████████████████████████████████████████| 488/488 [00:31<00:00, 15.33it/s]\n"
     ]
    },
    {
     "name": "stdout",
     "output_type": "stream",
     "text": [
      "Epoch 12:\n",
      "Train Loss: 1.2987\n",
      "Test RMSE: 1.1281\n",
      "Test MAE: 0.8308\n",
      "--------------------------------------------------\n"
     ]
    },
    {
     "name": "stderr",
     "output_type": "stream",
     "text": [
      "Training: 100%|██████████████████████████████████████████████████████████████████████████| 4389/4389 [09:02<00:00,  8.10it/s]\n",
      "Evaluating: 100%|██████████████████████████████████████████████████████████████████████████| 488/488 [00:32<00:00, 15.25it/s]\n"
     ]
    },
    {
     "name": "stdout",
     "output_type": "stream",
     "text": [
      "Epoch 13:\n",
      "Train Loss: 1.2991\n",
      "Test RMSE: 1.1333\n",
      "Test MAE: 0.8238\n",
      "--------------------------------------------------\n"
     ]
    },
    {
     "name": "stderr",
     "output_type": "stream",
     "text": [
      "Training: 100%|██████████████████████████████████████████████████████████████████████████| 4389/4389 [09:01<00:00,  8.10it/s]\n",
      "Evaluating: 100%|██████████████████████████████████████████████████████████████████████████| 488/488 [00:31<00:00, 15.28it/s]\n"
     ]
    },
    {
     "name": "stdout",
     "output_type": "stream",
     "text": [
      "Epoch 14:\n",
      "Train Loss: 1.2961\n",
      "Test RMSE: 1.1295\n",
      "Test MAE: 0.8464\n",
      "--------------------------------------------------\n"
     ]
    },
    {
     "name": "stderr",
     "output_type": "stream",
     "text": [
      "Training: 100%|██████████████████████████████████████████████████████████████████████████| 4389/4389 [09:02<00:00,  8.10it/s]\n",
      "Evaluating: 100%|██████████████████████████████████████████████████████████████████████████| 488/488 [00:31<00:00, 15.28it/s]\n"
     ]
    },
    {
     "name": "stdout",
     "output_type": "stream",
     "text": [
      "Epoch 15:\n",
      "Train Loss: 1.2963\n",
      "Test RMSE: 1.1291\n",
      "Test MAE: 0.8362\n",
      "--------------------------------------------------\n"
     ]
    },
    {
     "name": "stderr",
     "output_type": "stream",
     "text": [
      "Training: 100%|██████████████████████████████████████████████████████████████████████████| 4389/4389 [09:01<00:00,  8.10it/s]\n",
      "Evaluating: 100%|██████████████████████████████████████████████████████████████████████████| 488/488 [00:31<00:00, 15.33it/s]\n"
     ]
    },
    {
     "name": "stdout",
     "output_type": "stream",
     "text": [
      "Epoch 16:\n",
      "Train Loss: 1.2840\n",
      "Test RMSE: 1.1265\n",
      "Test MAE: 0.8192\n",
      "--------------------------------------------------\n"
     ]
    },
    {
     "name": "stderr",
     "output_type": "stream",
     "text": [
      "Training: 100%|██████████████████████████████████████████████████████████████████████████| 4389/4389 [09:01<00:00,  8.10it/s]\n",
      "Evaluating: 100%|██████████████████████████████████████████████████████████████████████████| 488/488 [00:31<00:00, 15.28it/s]\n"
     ]
    },
    {
     "name": "stdout",
     "output_type": "stream",
     "text": [
      "Epoch 17:\n",
      "Train Loss: 1.2814\n",
      "Test RMSE: 1.1262\n",
      "Test MAE: 0.8366\n",
      "--------------------------------------------------\n"
     ]
    },
    {
     "name": "stderr",
     "output_type": "stream",
     "text": [
      "Training: 100%|██████████████████████████████████████████████████████████████████████████| 4389/4389 [09:02<00:00,  8.10it/s]\n",
      "Evaluating: 100%|██████████████████████████████████████████████████████████████████████████| 488/488 [00:31<00:00, 15.27it/s]\n"
     ]
    },
    {
     "name": "stdout",
     "output_type": "stream",
     "text": [
      "Epoch 18:\n",
      "Train Loss: 1.2821\n",
      "Test RMSE: 1.1296\n",
      "Test MAE: 0.8244\n",
      "--------------------------------------------------\n"
     ]
    },
    {
     "name": "stderr",
     "output_type": "stream",
     "text": [
      "Training: 100%|██████████████████████████████████████████████████████████████████████████| 4389/4389 [09:02<00:00,  8.10it/s]\n",
      "Evaluating: 100%|██████████████████████████████████████████████████████████████████████████| 488/488 [00:31<00:00, 15.29it/s]\n"
     ]
    },
    {
     "name": "stdout",
     "output_type": "stream",
     "text": [
      "Epoch 19:\n",
      "Train Loss: 1.2822\n",
      "Test RMSE: 1.1235\n",
      "Test MAE: 0.8277\n",
      "--------------------------------------------------\n"
     ]
    },
    {
     "name": "stderr",
     "output_type": "stream",
     "text": [
      "Training: 100%|██████████████████████████████████████████████████████████████████████████| 4389/4389 [09:02<00:00,  8.10it/s]\n",
      "Evaluating: 100%|██████████████████████████████████████████████████████████████████████████| 488/488 [00:31<00:00, 15.28it/s]\n"
     ]
    },
    {
     "name": "stdout",
     "output_type": "stream",
     "text": [
      "Epoch 20:\n",
      "Train Loss: 1.2822\n",
      "Test RMSE: 1.1323\n",
      "Test MAE: 0.8214\n",
      "--------------------------------------------------\n"
     ]
    },
    {
     "name": "stderr",
     "output_type": "stream",
     "text": [
      "Training: 100%|██████████████████████████████████████████████████████████████████████████| 4389/4389 [09:02<00:00,  8.10it/s]\n",
      "Evaluating: 100%|██████████████████████████████████████████████████████████████████████████| 488/488 [00:31<00:00, 15.29it/s]\n"
     ]
    },
    {
     "name": "stdout",
     "output_type": "stream",
     "text": [
      "Epoch 21:\n",
      "Train Loss: 1.2822\n",
      "Test RMSE: 1.1256\n",
      "Test MAE: 0.8328\n",
      "--------------------------------------------------\n"
     ]
    },
    {
     "name": "stderr",
     "output_type": "stream",
     "text": [
      "Training: 100%|██████████████████████████████████████████████████████████████████████████| 4389/4389 [09:01<00:00,  8.10it/s]\n",
      "Evaluating: 100%|██████████████████████████████████████████████████████████████████████████| 488/488 [00:31<00:00, 15.31it/s]\n"
     ]
    },
    {
     "name": "stdout",
     "output_type": "stream",
     "text": [
      "Epoch 22:\n",
      "Train Loss: 1.2809\n",
      "Test RMSE: 1.1235\n",
      "Test MAE: 0.8285\n",
      "--------------------------------------------------\n"
     ]
    },
    {
     "name": "stderr",
     "output_type": "stream",
     "text": [
      "Training: 100%|██████████████████████████████████████████████████████████████████████████| 4389/4389 [09:01<00:00,  8.10it/s]\n",
      "Evaluating: 100%|██████████████████████████████████████████████████████████████████████████| 488/488 [00:31<00:00, 15.33it/s]\n"
     ]
    },
    {
     "name": "stdout",
     "output_type": "stream",
     "text": [
      "Epoch 23:\n",
      "Train Loss: 1.2824\n",
      "Test RMSE: 1.1337\n",
      "Test MAE: 0.8240\n",
      "--------------------------------------------------\n"
     ]
    },
    {
     "name": "stderr",
     "output_type": "stream",
     "text": [
      "Training: 100%|██████████████████████████████████████████████████████████████████████████| 4389/4389 [09:01<00:00,  8.10it/s]\n",
      "Evaluating: 100%|██████████████████████████████████████████████████████████████████████████| 488/488 [00:31<00:00, 15.28it/s]\n"
     ]
    },
    {
     "name": "stdout",
     "output_type": "stream",
     "text": [
      "Epoch 24:\n",
      "Train Loss: 1.2820\n",
      "Test RMSE: 1.1367\n",
      "Test MAE: 0.8613\n",
      "--------------------------------------------------\n"
     ]
    },
    {
     "name": "stderr",
     "output_type": "stream",
     "text": [
      "Training: 100%|██████████████████████████████████████████████████████████████████████████| 4389/4389 [09:01<00:00,  8.10it/s]\n",
      "Evaluating: 100%|██████████████████████████████████████████████████████████████████████████| 488/488 [00:31<00:00, 15.25it/s]\n"
     ]
    },
    {
     "name": "stdout",
     "output_type": "stream",
     "text": [
      "Epoch 25:\n",
      "Train Loss: 1.2811\n",
      "Test RMSE: 1.1240\n",
      "Test MAE: 0.8246\n",
      "--------------------------------------------------\n"
     ]
    },
    {
     "name": "stderr",
     "output_type": "stream",
     "text": [
      "Training: 100%|██████████████████████████████████████████████████████████████████████████| 4389/4389 [09:02<00:00,  8.10it/s]\n",
      "Evaluating: 100%|██████████████████████████████████████████████████████████████████████████| 488/488 [00:32<00:00, 15.24it/s]\n"
     ]
    },
    {
     "name": "stdout",
     "output_type": "stream",
     "text": [
      "Epoch 26:\n",
      "Train Loss: 1.2745\n",
      "Test RMSE: 1.1276\n",
      "Test MAE: 0.8457\n",
      "--------------------------------------------------\n"
     ]
    },
    {
     "name": "stderr",
     "output_type": "stream",
     "text": [
      "Training: 100%|██████████████████████████████████████████████████████████████████████████| 4389/4389 [09:02<00:00,  8.09it/s]\n",
      "Evaluating: 100%|██████████████████████████████████████████████████████████████████████████| 488/488 [00:32<00:00, 15.25it/s]\n"
     ]
    },
    {
     "name": "stdout",
     "output_type": "stream",
     "text": [
      "Epoch 27:\n",
      "Train Loss: 1.2721\n",
      "Test RMSE: 1.1255\n",
      "Test MAE: 0.8420\n",
      "--------------------------------------------------\n"
     ]
    },
    {
     "name": "stderr",
     "output_type": "stream",
     "text": [
      "Training: 100%|██████████████████████████████████████████████████████████████████████████| 4389/4389 [09:02<00:00,  8.09it/s]\n",
      "Evaluating: 100%|██████████████████████████████████████████████████████████████████████████| 488/488 [00:31<00:00, 15.27it/s]\n"
     ]
    },
    {
     "name": "stdout",
     "output_type": "stream",
     "text": [
      "Epoch 28:\n",
      "Train Loss: 1.2717\n",
      "Test RMSE: 1.1219\n",
      "Test MAE: 0.8212\n",
      "--------------------------------------------------\n"
     ]
    },
    {
     "name": "stderr",
     "output_type": "stream",
     "text": [
      "Training: 100%|██████████████████████████████████████████████████████████████████████████| 4389/4389 [09:02<00:00,  8.09it/s]\n",
      "Evaluating: 100%|██████████████████████████████████████████████████████████████████████████| 488/488 [00:31<00:00, 15.27it/s]\n"
     ]
    },
    {
     "name": "stdout",
     "output_type": "stream",
     "text": [
      "Epoch 29:\n",
      "Train Loss: 1.2715\n",
      "Test RMSE: 1.1216\n",
      "Test MAE: 0.8212\n",
      "--------------------------------------------------\n"
     ]
    },
    {
     "name": "stderr",
     "output_type": "stream",
     "text": [
      "Training: 100%|██████████████████████████████████████████████████████████████████████████| 4389/4389 [09:02<00:00,  8.09it/s]\n",
      "Evaluating: 100%|██████████████████████████████████████████████████████████████████████████| 488/488 [00:31<00:00, 15.29it/s]\n"
     ]
    },
    {
     "name": "stdout",
     "output_type": "stream",
     "text": [
      "Epoch 30:\n",
      "Train Loss: 1.2713\n",
      "Test RMSE: 1.1208\n",
      "Test MAE: 0.8231\n",
      "--------------------------------------------------\n"
     ]
    },
    {
     "name": "stderr",
     "output_type": "stream",
     "text": [
      "Training: 100%|██████████████████████████████████████████████████████████████████████████| 4389/4389 [09:02<00:00,  8.09it/s]\n",
      "Evaluating: 100%|██████████████████████████████████████████████████████████████████████████| 488/488 [00:31<00:00, 15.29it/s]\n"
     ]
    },
    {
     "name": "stdout",
     "output_type": "stream",
     "text": [
      "Epoch 31:\n",
      "Train Loss: 1.2711\n",
      "Test RMSE: 1.1232\n",
      "Test MAE: 0.8189\n",
      "--------------------------------------------------\n"
     ]
    },
    {
     "name": "stderr",
     "output_type": "stream",
     "text": [
      "Training: 100%|██████████████████████████████████████████████████████████████████████████| 4389/4389 [09:02<00:00,  8.09it/s]\n",
      "Evaluating: 100%|██████████████████████████████████████████████████████████████████████████| 488/488 [00:31<00:00, 15.26it/s]\n"
     ]
    },
    {
     "name": "stdout",
     "output_type": "stream",
     "text": [
      "Epoch 32:\n",
      "Train Loss: 1.2711\n",
      "Test RMSE: 1.1220\n",
      "Test MAE: 0.8222\n",
      "--------------------------------------------------\n"
     ]
    },
    {
     "name": "stderr",
     "output_type": "stream",
     "text": [
      "Training: 100%|██████████████████████████████████████████████████████████████████████████| 4389/4389 [09:02<00:00,  8.10it/s]\n",
      "Evaluating: 100%|██████████████████████████████████████████████████████████████████████████| 488/488 [00:31<00:00, 15.27it/s]\n"
     ]
    },
    {
     "name": "stdout",
     "output_type": "stream",
     "text": [
      "Epoch 33:\n",
      "Train Loss: 1.2706\n",
      "Test RMSE: 1.1228\n",
      "Test MAE: 0.8316\n",
      "--------------------------------------------------\n"
     ]
    },
    {
     "name": "stderr",
     "output_type": "stream",
     "text": [
      "Training: 100%|██████████████████████████████████████████████████████████████████████████| 4389/4389 [09:02<00:00,  8.09it/s]\n",
      "Evaluating: 100%|██████████████████████████████████████████████████████████████████████████| 488/488 [00:31<00:00, 15.29it/s]\n"
     ]
    },
    {
     "name": "stdout",
     "output_type": "stream",
     "text": [
      "Epoch 34:\n",
      "Train Loss: 1.2707\n",
      "Test RMSE: 1.1224\n",
      "Test MAE: 0.8341\n",
      "--------------------------------------------------\n"
     ]
    },
    {
     "name": "stderr",
     "output_type": "stream",
     "text": [
      "Training: 100%|██████████████████████████████████████████████████████████████████████████| 4389/4389 [09:05<00:00,  8.05it/s]\n",
      "Evaluating: 100%|██████████████████████████████████████████████████████████████████████████| 488/488 [00:31<00:00, 15.29it/s]\n"
     ]
    },
    {
     "name": "stdout",
     "output_type": "stream",
     "text": [
      "Epoch 35:\n",
      "Train Loss: 1.2698\n",
      "Test RMSE: 1.1223\n",
      "Test MAE: 0.8303\n",
      "--------------------------------------------------\n"
     ]
    },
    {
     "name": "stderr",
     "output_type": "stream",
     "text": [
      "Training: 100%|██████████████████████████████████████████████████████████████████████████| 4389/4389 [09:02<00:00,  8.08it/s]\n",
      "Evaluating: 100%|██████████████████████████████████████████████████████████████████████████| 488/488 [00:32<00:00, 15.23it/s]\n"
     ]
    },
    {
     "name": "stdout",
     "output_type": "stream",
     "text": [
      "Epoch 36:\n",
      "Train Loss: 1.2708\n",
      "Test RMSE: 1.1219\n",
      "Test MAE: 0.8315\n",
      "--------------------------------------------------\n"
     ]
    },
    {
     "name": "stderr",
     "output_type": "stream",
     "text": [
      "Training: 100%|██████████████████████████████████████████████████████████████████████████| 4389/4389 [09:02<00:00,  8.08it/s]\n",
      "Evaluating: 100%|██████████████████████████████████████████████████████████████████████████| 488/488 [00:32<00:00, 15.25it/s]\n"
     ]
    },
    {
     "name": "stdout",
     "output_type": "stream",
     "text": [
      "Epoch 37:\n",
      "Train Loss: 1.2666\n",
      "Test RMSE: 1.1207\n",
      "Test MAE: 0.8285\n",
      "--------------------------------------------------\n"
     ]
    },
    {
     "name": "stderr",
     "output_type": "stream",
     "text": [
      "Training: 100%|██████████████████████████████████████████████████████████████████████████| 4389/4389 [09:02<00:00,  8.09it/s]\n",
      "Evaluating: 100%|██████████████████████████████████████████████████████████████████████████| 488/488 [00:31<00:00, 15.29it/s]\n"
     ]
    },
    {
     "name": "stdout",
     "output_type": "stream",
     "text": [
      "Epoch 38:\n",
      "Train Loss: 1.2656\n",
      "Test RMSE: 1.1206\n",
      "Test MAE: 0.8154\n",
      "--------------------------------------------------\n"
     ]
    },
    {
     "name": "stderr",
     "output_type": "stream",
     "text": [
      "Training: 100%|██████████████████████████████████████████████████████████████████████████| 4389/4389 [09:02<00:00,  8.09it/s]\n",
      "Evaluating: 100%|██████████████████████████████████████████████████████████████████████████| 488/488 [00:31<00:00, 15.26it/s]\n"
     ]
    },
    {
     "name": "stdout",
     "output_type": "stream",
     "text": [
      "Epoch 39:\n",
      "Train Loss: 1.2649\n",
      "Test RMSE: 1.1200\n",
      "Test MAE: 0.8226\n",
      "--------------------------------------------------\n"
     ]
    },
    {
     "name": "stderr",
     "output_type": "stream",
     "text": [
      "Training: 100%|██████████████████████████████████████████████████████████████████████████| 4389/4389 [09:02<00:00,  8.08it/s]\n",
      "Evaluating: 100%|██████████████████████████████████████████████████████████████████████████| 488/488 [00:31<00:00, 15.27it/s]\n"
     ]
    },
    {
     "name": "stdout",
     "output_type": "stream",
     "text": [
      "Epoch 40:\n",
      "Train Loss: 1.2648\n",
      "Test RMSE: 1.1202\n",
      "Test MAE: 0.8236\n",
      "--------------------------------------------------\n"
     ]
    },
    {
     "name": "stderr",
     "output_type": "stream",
     "text": [
      "Training: 100%|██████████████████████████████████████████████████████████████████████████| 4389/4389 [09:02<00:00,  8.08it/s]\n",
      "Evaluating: 100%|██████████████████████████████████████████████████████████████████████████| 488/488 [00:31<00:00, 15.27it/s]\n"
     ]
    },
    {
     "name": "stdout",
     "output_type": "stream",
     "text": [
      "Epoch 41:\n",
      "Train Loss: 1.2645\n",
      "Test RMSE: 1.1193\n",
      "Test MAE: 0.8240\n",
      "--------------------------------------------------\n"
     ]
    },
    {
     "name": "stderr",
     "output_type": "stream",
     "text": [
      "Training: 100%|██████████████████████████████████████████████████████████████████████████| 4389/4389 [09:02<00:00,  8.09it/s]\n",
      "Evaluating: 100%|██████████████████████████████████████████████████████████████████████████| 488/488 [00:32<00:00, 15.20it/s]\n"
     ]
    },
    {
     "name": "stdout",
     "output_type": "stream",
     "text": [
      "Epoch 42:\n",
      "Train Loss: 1.2649\n",
      "Test RMSE: 1.1197\n",
      "Test MAE: 0.8205\n",
      "--------------------------------------------------\n"
     ]
    },
    {
     "name": "stderr",
     "output_type": "stream",
     "text": [
      "Training: 100%|██████████████████████████████████████████████████████████████████████████| 4389/4389 [09:02<00:00,  8.09it/s]\n",
      "Evaluating: 100%|██████████████████████████████████████████████████████████████████████████| 488/488 [00:31<00:00, 15.29it/s]\n"
     ]
    },
    {
     "name": "stdout",
     "output_type": "stream",
     "text": [
      "Epoch 43:\n",
      "Train Loss: 1.2644\n",
      "Test RMSE: 1.1213\n",
      "Test MAE: 0.8318\n",
      "--------------------------------------------------\n"
     ]
    },
    {
     "name": "stderr",
     "output_type": "stream",
     "text": [
      "Training: 100%|██████████████████████████████████████████████████████████████████████████| 4389/4389 [09:02<00:00,  8.09it/s]\n",
      "Evaluating: 100%|██████████████████████████████████████████████████████████████████████████| 488/488 [00:31<00:00, 15.27it/s]\n"
     ]
    },
    {
     "name": "stdout",
     "output_type": "stream",
     "text": [
      "Epoch 44:\n",
      "Train Loss: 1.2641\n",
      "Test RMSE: 1.1193\n",
      "Test MAE: 0.8216\n",
      "--------------------------------------------------\n"
     ]
    },
    {
     "name": "stderr",
     "output_type": "stream",
     "text": [
      "Training: 100%|██████████████████████████████████████████████████████████████████████████| 4389/4389 [09:02<00:00,  8.09it/s]\n",
      "Evaluating: 100%|██████████████████████████████████████████████████████████████████████████| 488/488 [00:31<00:00, 15.26it/s]\n"
     ]
    },
    {
     "name": "stdout",
     "output_type": "stream",
     "text": [
      "Epoch 45:\n",
      "Train Loss: 1.2644\n",
      "Test RMSE: 1.1225\n",
      "Test MAE: 0.8321\n",
      "--------------------------------------------------\n"
     ]
    },
    {
     "name": "stderr",
     "output_type": "stream",
     "text": [
      "Training: 100%|██████████████████████████████████████████████████████████████████████████| 4389/4389 [09:02<00:00,  8.09it/s]\n",
      "Evaluating: 100%|██████████████████████████████████████████████████████████████████████████| 488/488 [00:31<00:00, 15.29it/s]\n"
     ]
    },
    {
     "name": "stdout",
     "output_type": "stream",
     "text": [
      "Epoch 46:\n",
      "Train Loss: 1.2641\n",
      "Test RMSE: 1.1208\n",
      "Test MAE: 0.8243\n",
      "--------------------------------------------------\n"
     ]
    },
    {
     "name": "stderr",
     "output_type": "stream",
     "text": [
      "Training: 100%|██████████████████████████████████████████████████████████████████████████| 4389/4389 [09:02<00:00,  8.08it/s]\n",
      "Evaluating: 100%|██████████████████████████████████████████████████████████████████████████| 488/488 [00:32<00:00, 15.22it/s]\n"
     ]
    },
    {
     "name": "stdout",
     "output_type": "stream",
     "text": [
      "Epoch 47:\n",
      "Train Loss: 1.2640\n",
      "Test RMSE: 1.1210\n",
      "Test MAE: 0.8173\n",
      "--------------------------------------------------\n"
     ]
    },
    {
     "name": "stderr",
     "output_type": "stream",
     "text": [
      "Training: 100%|██████████████████████████████████████████████████████████████████████████| 4389/4389 [09:02<00:00,  8.09it/s]\n",
      "Evaluating: 100%|██████████████████████████████████████████████████████████████████████████| 488/488 [00:31<00:00, 15.25it/s]\n"
     ]
    },
    {
     "name": "stdout",
     "output_type": "stream",
     "text": [
      "Epoch 48:\n",
      "Train Loss: 1.2618\n",
      "Test RMSE: 1.1193\n",
      "Test MAE: 0.8191\n",
      "--------------------------------------------------\n"
     ]
    },
    {
     "name": "stderr",
     "output_type": "stream",
     "text": [
      "Training: 100%|██████████████████████████████████████████████████████████████████████████| 4389/4389 [09:02<00:00,  8.09it/s]\n",
      "Evaluating: 100%|██████████████████████████████████████████████████████████████████████████| 488/488 [00:32<00:00, 15.25it/s]\n"
     ]
    },
    {
     "name": "stdout",
     "output_type": "stream",
     "text": [
      "Epoch 49:\n",
      "Train Loss: 1.2607\n",
      "Test RMSE: 1.1186\n",
      "Test MAE: 0.8230\n",
      "--------------------------------------------------\n"
     ]
    },
    {
     "name": "stderr",
     "output_type": "stream",
     "text": [
      "Training: 100%|██████████████████████████████████████████████████████████████████████████| 4389/4389 [09:02<00:00,  8.09it/s]\n",
      "Evaluating: 100%|██████████████████████████████████████████████████████████████████████████| 488/488 [00:31<00:00, 15.25it/s]"
     ]
    },
    {
     "name": "stdout",
     "output_type": "stream",
     "text": [
      "Epoch 50:\n",
      "Train Loss: 1.2603\n",
      "Test RMSE: 1.1185\n",
      "Test MAE: 0.8210\n",
      "--------------------------------------------------\n"
     ]
    },
    {
     "name": "stderr",
     "output_type": "stream",
     "text": [
      "\n"
     ]
    }
   ],
   "source": [
    "model = RatingPredictionGNN(\n",
    "        latent_dim=64,\n",
    "        num_layers=3,\n",
    "        num_users=n_users,\n",
    "        num_books=n_books,\n",
    "        model='LightGCN',\n",
    "        user_features=user_features,\n",
    "        book_numerical_features=book_numerical_features,\n",
    "        book_genre_features=book_genre_features\n",
    "    ).to(device)\n",
    "    \n",
    "    # Create trainer\n",
    "trainer = RatingTrainer(\n",
    "    model=model,\n",
    "    train_df=train_df,\n",
    "    test_df=test_df,\n",
    "    edge_index=train_edge_index,\n",
    "    n_users=n_users,\n",
    "    device=device,\n",
    "    batch_size=1024,\n",
    "    lr=0.001\n",
    ")\n",
    "\n",
    "# Train model\n",
    "trained_model = trainer.train(num_epochs=50)"
   ]
  },
  {
   "cell_type": "code",
   "execution_count": 24,
   "metadata": {},
   "outputs": [
    {
     "name": "stdout",
     "output_type": "stream",
     "text": [
      "RatingPredictionGNN(\n",
      "  (user_feature_proj): Linear(in_features=2, out_features=64, bias=True)\n",
      "  (book_numerical_features_proj): Linear(in_features=3, out_features=64, bias=True)\n",
      "  (book_genre_features_proj): Linear(in_features=8, out_features=64, bias=True)\n",
      "  (embedding): Embedding(226520, 64)\n",
      "  (convs): ModuleList(\n",
      "    (0-2): 3 x LightGCNConv()\n",
      "  )\n",
      "  (prediction): Sequential(\n",
      "    (0): Linear(in_features=128, out_features=64, bias=True)\n",
      "    (1): ReLU()\n",
      "    (2): Dropout(p=0.1, inplace=False)\n",
      "    (3): Linear(in_features=64, out_features=1, bias=True)\n",
      "  )\n",
      ")\n"
     ]
    }
   ],
   "source": [
    "print(model)"
   ]
  },
  {
   "cell_type": "code",
   "execution_count": 24,
   "metadata": {},
   "outputs": [
    {
     "data": {
      "image/png": "[encoded data removed]",
      "text/plain": [
       "<Figure size 864x720 with 2 Axes>"
      ]
     },
     "metadata": {},
     "output_type": "display_data"
    }
   ],
   "source": [
    "import matplotlib.pyplot as plt\n",
    "import numpy as np\n",
    "\n",
    "# Extract metrics from the log\n",
    "epochs = list(range(1, 51))\n",
    "train_loss = [1.5645, 1.3700, 1.3497, 1.3246, 1.3113, 1.3073, 1.3062, 1.3041, 1.3023, 1.3013,\n",
    "              1.3002, 1.2991, 1.2985, 1.2975, 1.2981, 1.2971, 1.2850, 1.2836, 1.2838, 1.2837,\n",
    "              1.2828, 1.2828, 1.2829, 1.2821, 1.2832, 1.2765, 1.2740, 1.2746, 1.2745, 1.2747,\n",
    "              1.2745, 1.2742, 1.2745, 1.2753, 1.2741, 1.2740, 1.2748, 1.2706, 1.2697, 1.2693,\n",
    "              1.2693, 1.2690, 1.2690, 1.2689, 1.2690, 1.2664, 1.2657, 1.2653, 1.2651, 1.2652]\n",
    "\n",
    "test_rmse = [1.1518, 1.1427, 1.1348, 1.1292, 1.1299, 1.1318, 1.1403, 1.1284, 1.1378, 1.1279,\n",
    "             1.1481, 1.1301, 1.1286, 1.1308, 1.1297, 1.1282, 1.1273, 1.1286, 1.1236, 1.1324,\n",
    "             1.1276, 1.1237, 1.1286, 1.1240, 1.1344, 1.1235, 1.1213, 1.1222, 1.1231, 1.1237,\n",
    "             1.1210, 1.1225, 1.1230, 1.1231, 1.1216, 1.1224, 1.1219, 1.1235, 1.1201, 1.1210,\n",
    "             1.1209, 1.1211, 1.1207, 1.1207, 1.1275, 1.1207, 1.1191, 1.1200, 1.1195, 1.1189]\n",
    "\n",
    "test_mae = [0.8767, 0.8547, 0.8442, 0.8334, 0.8453, 0.8322, 0.8601, 0.8325, 0.8529, 0.8250,\n",
    "            0.8238, 0.8301, 0.8316, 0.8420, 0.8400, 0.8357, 0.8263, 0.8465, 0.8292, 0.8209,\n",
    "            0.8454, 0.8317, 0.8471, 0.8236, 0.8567, 0.8334, 0.8226, 0.8305, 0.8228, 0.8365,\n",
    "            0.8256, 0.8265, 0.8280, 0.8338, 0.8281, 0.8233, 0.8288, 0.8387, 0.8224, 0.8231,\n",
    "            0.8215, 0.8219, 0.8307, 0.8204, 0.8485, 0.8319, 0.8261, 0.8200, 0.8194, 0.8239]\n",
    "\n",
    "# Create figure with subplots\n",
    "plt.style.use('seaborn')\n",
    "fig, (ax1, ax2) = plt.subplots(2, 1, figsize=(12, 10))\n",
    "\n",
    "# Plot training loss\n",
    "ax1.plot(epochs, train_loss, 'b-', label='Training Loss')\n",
    "ax1.set_title('Training Loss over Epochs', pad=15)\n",
    "ax1.set_xlabel('Epoch')\n",
    "ax1.set_ylabel('Loss')\n",
    "ax1.grid(True)\n",
    "ax1.legend()\n",
    "\n",
    "# Plot test metrics\n",
    "ax2.plot(epochs, test_rmse, 'r-', label='Test RMSE')\n",
    "ax2.plot(epochs, test_mae, 'g-', label='Test MAE')\n",
    "ax2.set_title('Test Metrics over Epochs', pad=15)\n",
    "ax2.set_xlabel('Epoch')\n",
    "ax2.set_ylabel('Error')\n",
    "ax2.grid(True)\n",
    "ax2.legend()\n",
    "\n",
    "# Add summary statistics\n",
    "min_train_loss = min(train_loss)\n",
    "min_test_rmse = min(test_rmse)\n",
    "min_test_mae = min(test_mae)\n",
    "\n",
    "text = f'Best Metrics:\\nTrain Loss: {min_train_loss:.4f}\\nTest RMSE: {min_test_rmse:.4f}\\nTest MAE: {min_test_mae:.4f}'\n",
    "plt.figtext(0.02, 0.02, text, ha='left', va='bottom', fontsize=10, bbox=dict(facecolor='white', alpha=0.8))\n",
    "\n",
    "plt.tight_layout()\n",
    "plt.savefig('performance-dim32.png')\n",
    "plt.show()"
   ]
  },
  {
   "cell_type": "code",
   "execution_count": 59,
   "metadata": {},
   "outputs": [],
   "source": [
    "torch.cuda.empty_cache()"
   ]
  },
  {
   "cell_type": "code",
   "execution_count": 25,
   "metadata": {},
   "outputs": [
    {
     "data": {
      "image/png": "[encoded data removed]",
      "text/plain": [
       "<Figure size 864x720 with 2 Axes>"
      ]
     },
     "metadata": {},
     "output_type": "display_data"
    },
    {
     "name": "stdout",
     "output_type": "stream",
     "text": [
      "\n",
      "Training Analysis:\n",
      "Initial Train Loss: 1.5177\n",
      "Final Train Loss: 1.2603\n",
      "Loss Improvement: 16.96%\n",
      "\n",
      "Best Test RMSE: 1.1185 at Epoch 50\n",
      "Best Test MAE: 0.8154 at Epoch 38\n"
     ]
    }
   ],
   "source": [
    "import matplotlib.pyplot as plt\n",
    "import numpy as np\n",
    "\n",
    "# Extract metrics from the log\n",
    "epochs = list(range(1, 51))\n",
    "train_loss = [1.5177, 1.3689, 1.3392, 1.3189, 1.3088, 1.3043, 1.3009, 1.3008, 1.2994, 1.2985,\n",
    "              1.2995, 1.2987, 1.2991, 1.2961, 1.2963, 1.2840, 1.2814, 1.2821, 1.2822, 1.2822,\n",
    "              1.2822, 1.2809, 1.2824, 1.2820, 1.2811, 1.2745, 1.2721, 1.2717, 1.2715, 1.2713,\n",
    "              1.2711, 1.2711, 1.2706, 1.2707, 1.2698, 1.2708, 1.2666, 1.2656, 1.2649, 1.2648,\n",
    "              1.2645, 1.2649, 1.2644, 1.2641, 1.2644, 1.2641, 1.2640, 1.2618, 1.2607, 1.2603]\n",
    "\n",
    "test_rmse = [1.1677, 1.1593, 1.1624, 1.1422, 1.1299, 1.1310, 1.1331, 1.1284, 1.1276, 1.1367,\n",
    "             1.1300, 1.1281, 1.1333, 1.1295, 1.1291, 1.1265, 1.1262, 1.1296, 1.1235, 1.1323,\n",
    "             1.1256, 1.1235, 1.1337, 1.1367, 1.1240, 1.1276, 1.1255, 1.1219, 1.1216, 1.1208,\n",
    "             1.1232, 1.1220, 1.1228, 1.1224, 1.1223, 1.1219, 1.1207, 1.1206, 1.1200, 1.1202,\n",
    "             1.1193, 1.1197, 1.1213, 1.1193, 1.1225, 1.1208, 1.1210, 1.1193, 1.1186, 1.1185]\n",
    "\n",
    "test_mae = [0.9094, 0.8618, 0.9001, 0.8684, 0.8272, 0.8284, 0.8315, 0.8270, 0.8302, 0.8564,\n",
    "            0.8423, 0.8308, 0.8238, 0.8464, 0.8362, 0.8192, 0.8366, 0.8244, 0.8277, 0.8214,\n",
    "            0.8328, 0.8285, 0.8240, 0.8613, 0.8246, 0.8457, 0.8420, 0.8212, 0.8212, 0.8231,\n",
    "            0.8189, 0.8222, 0.8316, 0.8341, 0.8303, 0.8315, 0.8285, 0.8154, 0.8226, 0.8236,\n",
    "            0.8240, 0.8205, 0.8318, 0.8216, 0.8321, 0.8243, 0.8173, 0.8191, 0.8230, 0.8210]\n",
    "\n",
    "# Set style\n",
    "plt.style.use('seaborn')\n",
    "fig, (ax1, ax2) = plt.subplots(2, 1, figsize=(12, 10))\n",
    "\n",
    "# Plot training loss\n",
    "ax1.plot(epochs, train_loss, 'b-', label='Training Loss', linewidth=2)\n",
    "ax1.set_title('Training Loss over Epochs', fontsize=14, pad=15)\n",
    "ax1.set_xlabel('Epoch', fontsize=12)\n",
    "ax1.set_ylabel('Loss', fontsize=12)\n",
    "ax1.grid(True, linestyle='--', alpha=0.7)\n",
    "ax1.legend(fontsize=12)\n",
    "\n",
    "# Plot test metrics\n",
    "ax2.plot(epochs, test_rmse, 'r-', label='Test RMSE', linewidth=2)\n",
    "ax2.plot(epochs, test_mae, 'g-', label='Test MAE', linewidth=2)\n",
    "ax2.set_title('Test Metrics over Epochs', fontsize=14, pad=15)\n",
    "ax2.set_xlabel('Epoch', fontsize=12)\n",
    "ax2.set_ylabel('Error', fontsize=12)\n",
    "ax2.grid(True, linestyle='--', alpha=0.7)\n",
    "ax2.legend(fontsize=12)\n",
    "\n",
    "# Add summary statistics\n",
    "min_train_loss = min(train_loss)\n",
    "min_test_rmse = min(test_rmse)\n",
    "min_test_mae = min(test_mae)\n",
    "\n",
    "best_epoch_rmse = epochs[test_rmse.index(min_test_rmse)]\n",
    "best_epoch_mae = epochs[test_mae.index(min_test_mae)]\n",
    "\n",
    "stats_text = (\n",
    "    f'Best Metrics:\\n'\n",
    "    f'Train Loss: {min_train_loss:.4f}\\n'\n",
    "    f'Test RMSE: {min_test_rmse:.4f} (Epoch {best_epoch_rmse})\\n'\n",
    "    f'Test MAE: {min_test_mae:.4f} (Epoch {best_epoch_mae})'\n",
    ")\n",
    "\n",
    "plt.figtext(0.02, 0.02, stats_text, fontsize=12, bbox=dict(facecolor='white', alpha=0.8))\n",
    "\n",
    "# Adjust layout and display\n",
    "plt.tight_layout()\n",
    "plt.savefig('performance-dim64.png')\n",
    "plt.show()\n",
    "\n",
    "# Print analysis\n",
    "print(\"\\nTraining Analysis:\")\n",
    "print(f\"Initial Train Loss: {train_loss[0]:.4f}\")\n",
    "print(f\"Final Train Loss: {train_loss[-1]:.4f}\")\n",
    "print(f\"Loss Improvement: {((train_loss[0] - train_loss[-1]) / train_loss[0] * 100):.2f}%\")\n",
    "print(f\"\\nBest Test RMSE: {min_test_rmse:.4f} at Epoch {best_epoch_rmse}\")\n",
    "print(f\"Best Test MAE: {min_test_mae:.4f} at Epoch {best_epoch_mae}\")"
   ]
  },
  {
   "cell_type": "code",
   "execution_count": null,
   "metadata": {},
   "outputs": [],
   "source": []
  }
 ],
 "metadata": {
  "accelerator": "GPU",
  "colab": {
   "gpuType": "T4",
   "provenance": []
  },
  "kernelspec": {
   "display_name": "Python 3 (ipykernel)",
   "language": "python",
   "name": "python3"
  },
  "language_info": {
   "codemirror_mode": {
    "name": "ipython",
    "version": 3
   },
   "file_extension": ".py",
   "mimetype": "text/x-python",
   "name": "python",
   "nbconvert_exporter": "python",
   "pygments_lexer": "ipython3",
   "version": "3.10.12"
  }
 },
 "nbformat": 4,
 "nbformat_minor": 4
}
